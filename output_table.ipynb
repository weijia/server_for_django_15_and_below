{
 "cells": [
  {
   "cell_type": "code",
   "execution_count": 1,
   "metadata": {
    "collapsed": false,
    "slideshow": {
     "slide_type": "fragment"
    }
   },
   "outputs": [
    {
     "name": "stdout",
     "output_type": "stream",
     "text": [
      "[<Entry: 手机端：HiVi 惠威 GT1000 2.1 多媒体音箱　349元包邮（499-150）>, <Entry: Sofy 苏菲 超熟睡 安心裤M号  2片*10包（箱装）*2+凑单品　101元包邮（201-100，合2.5元/片）>, <Entry: AKG 爱科技 DJ系列 便携式耳机 K619　349元包邮（499-150）>, <Entry: 再特价：Panasonic 松下 RP-SSB240GAK 240G 固态硬盘　569元包邮（599-30）>, <Entry: beyerdynamic 拜亚动力 T90 头戴式耳机　2499元包邮（2999-500）>, <Entry: SID 超人 SF7312 1600w 电吹风　19.9元包邮>, <Entry: 苏宁跟价：SHARP 夏普 KC-W380S-W  空气净化器*2台　2799元，华北华南2999>, <Entry: 促销活动：1号店 sebamed 施巴 洗护用品专场　满199减100>, <Entry: LOCK&LOCK 乐扣乐扣 LLG445S911 格拉斯耐热玻璃保鲜盒4件套*2+凑单品　100.2元包邮（200.2-100，还可用券）>, <Entry: RIWA 雷瓦 专业三合一电动理发器套装 RE-550A　59元包邮>]\n"
     ]
    }
   ],
   "source": [
    "from yarr.models import Entry\n",
    "print Entry.objects.all()"
   ]
  },
  {
   "cell_type": "code",
   "execution_count": 19,
   "metadata": {
    "collapsed": false
   },
   "outputs": [],
   "source": [
    "class ListTable(list):\n",
    "    \"\"\" Overridden list class which takes a 2-dimensional list of \n",
    "        the form [[1,2,3],[4,5,6]], and renders an HTML Table in \n",
    "        IPython Notebook. \"\"\"\n",
    "    \n",
    "    def _repr_html_(self):\n",
    "        html = [u\"<table>\"]\n",
    "        for row in self:\n",
    "            html.append(u\"<tr>\")\n",
    "            \n",
    "            for col in row:\n",
    "                html.append(u\"<td>{0}</td>\".format(col))\n",
    "            \n",
    "            html.append(u\"</tr>\")\n",
    "        html.append(u\"</table>\")\n",
    "        return ''.join(html)"
   ]
  },
  {
   "cell_type": "code",
   "execution_count": 21,
   "metadata": {
    "collapsed": false
   },
   "outputs": [
    {
     "data": {
      "text/html": [
       "<table><tr><td>title</td><td>content</td></tr><tr><td>手机端：HiVi 惠威 GT1000 2.1 多媒体音箱　349元包邮（499-150）</td><td><p><strong>惠威2.1音箱平历史低价，支持蓝牙</strong>。这款惠威游戏音箱GT1000，为其GameTheater系列，2.1的配置主打游戏，并且内置蓝牙模块，可以与手机或笔记本无线连接，采用6.5英寸低音炮，“X”的造型搭配高光镜面，外观上倒也还不错，而卫星箱采用2分频设计，配备了 3英寸中频和3/4英寸球顶高频，总功率为33.6W。</p>\n",
       "<p>京东目前手机端售价499元，使用499-150优惠券，实付349元到手，平历史低价，之前这个价格转瞬即逝，从之前评价来看，基本上是500元价位最值得入手的2.1音箱。<a href=\"http://www.smzdm.com/p/678399\">购买详情链接</a><br><img src=\"http://ym.zdmimg.com/201506/04/5570410a952c7.jpg_e600.jpg\" alt=\"\"></p>\n",
       "<p>手机端：HiVi 惠威 GT1000 2.1 多媒体音箱　349元包邮（499-150），首发于什么值得买。</p>                    <p>本文来自<a href=\"http://www.smzdm.com/p/678399\">什么值得买网站（www.smzdm.com）</a>。</p></td></tr><tr><td>Sofy 苏菲 超熟睡 安心裤M号  2片*10包（箱装）*2+凑单品　101元包邮（201-100，合2.5元/片）</td><td><p>Sofy 苏菲 超熟睡安心裤，裤型卫生巾，类似婴儿用的拉拉裤，全包围设计，48.5cm的超长吸收体，适合量大的MM。小编没有什么使用体验就不过多介绍了。M号，适合腰围60cm-100cm的MM。此款规格为2片*8包送2包 （箱装）。</p>\n",
       "<p>京东苏菲官方旗舰店目前售价99元，可满199-100，下单两箱，凑单这款沐浴露，满减后实付101元包邮，买到40片安心裤，合2.5元/片，手里如果有全品类券的话还能做到更低。有需要的MM可以考虑~</p>\n",
       "<p><a href=\"http://www.smzdm.com/p/678395\">购买详情链接</a><br><img src=\"http://ym.zdmimg.com/201506/04/557028a273417.jpg_e600.jpg\" alt=\"\"><br></p>\n",
       "<p><br><img src=\"http://ym.zdmimg.com/201506/04/55703ceb4a0c48247.jpg_e600.jpg\" alt=\"\"></p>\n",
       "<p>Sofy 苏菲 超熟睡 安心裤M号  2片*10包（箱装）*2+凑单品　101元包邮（201-100，合2.5元/片），首发于什么值得买。</p>                    <p>本文来自<a href=\"http://www.smzdm.com/p/678395\">什么值得买网站（www.smzdm.com）</a>。</p></td></tr><tr><td>AKG 爱科技 DJ系列 便携式耳机 K619　349元包邮（499-150）</td><td><p><strong>动次打次，动次打次，K619国行新低价！</strong>AKG的DJ系列有K181、K518、K619几款。K619是偏高端的一款，兼具了DJ系列监听级的音效及时尚的外观。DJ系的耳机，按理说低频差不了。但小编的确对这款耳机有些“不明觉厉”的感觉。所以只能拿外观和价格来说事了。样子不错，多种亮丽颜色可选，佩戴也比较舒适。</p>\n",
       "<p>京东AKG官方旗舰店目前售价499元包邮，可用20京豆兑换的499-150优惠券，用券后实付349元包邮，历史新低~对于DJ耳机有所需求的网友可以关注~另外易迅用券后同样可做到349元~</p>\n",
       "<p><a href=\"http://www.smzdm.com/p/678389\">购买详情链接</a><br><img src=\"http://y.zdmimg.com/201311/10/2b743e15.jpg_e600.jpg\" alt=\"\"></p>\n",
       "<p><img src=\"http://ym.zdmimg.com/201506/04/5570329ca9eb64454.jpg_e600.jpg\"></p>\n",
       "<p><img src=\"http://ym.zdmimg.com/201506/04/5570326a4a3308384.jpg_e600.jpg\" alt=\"\"></p>\n",
       "<p><br></p>\n",
       "<p><br><img src=\"http://ym.zdmimg.com/201506/04/557032ca63294825.jpg_e600.jpg\" alt=\"\"></p>\n",
       "<p>AKG 爱科技 DJ系列 便携式耳机 K619　349元包邮（499-150），首发于什么值得买。</p>                    <p>本文来自<a href=\"http://www.smzdm.com/p/678389\">什么值得买网站（www.smzdm.com）</a>。</p></td></tr><tr><td>再特价：Panasonic 松下 RP-SSB240GAK 240G 固态硬盘　569元包邮（599-30）</td><td><p>东芝这款RP-SSB240GAK固态硬盘采用OCZ的Barefoot 3 M10主控，SATA 6Gbps接口，搭载东芝19nm MLC闪存。在大家关心的速度方面，240G容量官方标称读取速度为540MB/s，最高写入速度为525MB/s，写入速度让人满意。随机读写性能90000/85000IOPS。7mm厚度基本上入笔记本问题不大，产地为台湾，可享受3年质保。 </p>\n",
       "<p>京东目前再次特价至599元，可使用500-30优惠券实付569元到手，上次推荐过后很快涨价了，目前再特价没有买到的网友这次可以继续购买了。<a href=\"http://www.smzdm.com/p/678387\">购买详情链接</a><br><img src=\"http://ym.zdmimg.com/201506/04/55701c766ee29.jpg_e600.jpg\" alt=\"\"></p>\n",
       "<p>再特价：Panasonic 松下 RP-SSB240GAK 240G 固态硬盘　569元包邮（599-30），首发于什么值得买。</p>                    <p>本文来自<a href=\"http://www.smzdm.com/p/678387\">什么值得买网站（www.smzdm.com）</a>。</p></td></tr><tr><td>beyerdynamic 拜亚动力 T90 头戴式耳机　2499元包邮（2999-500）</td><td><p><strong>德产特斯拉单元次旗舰耳机，比昨天再降150。</strong>beyerdynamic拜亚动力T90，采用开放式特斯拉技术动圈，频响范围为5Hz——40KHz，阻抗250欧，标称声压级为102dB（1mW/500Hz），不含导线的重量为330g，包耳式构造，导线和插头分别采用3.5mm的镀金迷你插头和6.35mm的1/4寸插头，包装内含一副耳机和一张保修卡。</p>\n",
       "<p>易迅网目前售价2999元，可用1999-500影音券，满减实付2499元包邮，比昨天再降150，白牙高阻次旗舰头戴耳机近期好价，但是较高的阻抗对前端自然也有一定的要求。</p>\n",
       "<p><br><a href=\"http://www.smzdm.com/p/678385\">购买详情链接</a><br><img src=\"http://ym.zdmimg.com/201506/03/556e0c1b41fc7.jpg_e600.jpg\"></p>\n",
       "<p><br></p>\n",
       "<p>beyerdynamic 拜亚动力 T90 头戴式耳机　2499元包邮（2999-500），首发于什么值得买。</p>                    <p>本文来自<a href=\"http://www.smzdm.com/p/678385\">什么值得买网站（www.smzdm.com）</a>。</p></td></tr><tr><td>SID 超人 SF7312 1600w 电吹风　19.9元包邮</td><td><p>超人这款电吹风，三挡风速可调，功率1600W，可折叠方便携带，官方称附带恒温负离子，不过这个价位大家不要过于当真了，满足基本需求还是可以的~</p>\n",
       "<p>京东目前售价19.9元，价格不错，还可参加满减活动，凑单也是好选择，适合男同胞以及对吹风机要求不高的妹子。<a href=\"http://www.smzdm.com/p/678391\">购买详情链接</a><br><img src=\"http://ym.zdmimg.com/201506/04/55702478c5436.jpg_e600.jpg\" alt=\"\"></p>\n",
       "<p>SID 超人 SF7312 1600w 电吹风　19.9元包邮，首发于什么值得买。</p>                    <p>本文来自<a href=\"http://www.smzdm.com/p/678391\">什么值得买网站（www.smzdm.com）</a>。</p></td></tr><tr><td>苏宁跟价：SHARP 夏普 KC-W380S-W  空气净化器*2台　2799元，华北华南2999</td><td><p><b>更新：高端一些的KI-CE60-W也跟价了，苏宁易购5799元，买一送一，那么，现在就等BB60了~</b></p>\n",
       "<p><strong>夏普380CADR值空气净化器，苏宁跟价，同样买一送一。</strong>上午刚推荐了京东买一送一2899的价格，下午苏宁易购2799元，买2付1，比上午还便宜100，华北华南则是2999元，略贵一点，都是神价，上午没买到的朋友不用再求转了~<br></p>\n",
       "<p><strong>夏普380CADR值空气净化器新低价~</strong>SHARP夏普KC-W380S，是W系列的380新款。主要功能是除烟、除尘、除一氧化碳、杀菌、无雾加湿。净化方式为净离子群+3重滤网（HEPA集尘滤网、脱臭过滤网、前置面板）。噪音52dB，额定功率56W，最大加湿量730ml/h，适用面积为60平米。11阶异味显示灯，可准确反映实时的空气质量，杀菌率为99%（开 机6小时后）、PM2.5过滤率99.9%、去甲醛率为99%、去味效果更是达到100%。</p>\n",
       "<p><a href=\"http://www.smzdm.com/p/678393\">购买详情链接</a><br><img src=\"http://ym.zdmimg.com/201506/04/5570365e37c167660.jpg_e600.jpg\" alt=\"\"></p>\n",
       "<p><br><img src=\"http://ym.zdmimg.com/201506/04/5570377b068954513.jpg_e600.jpg\" alt=\"\"></p>\n",
       "<p>苏宁跟价：SHARP 夏普 KC-W380S-W  空气净化器*2台　2799元，华北华南2999，首发于什么值得买。</p>                    <p>本文来自<a href=\"http://www.smzdm.com/p/678393\">什么值得买网站（www.smzdm.com）</a>。</p></td></tr><tr><td>促销活动：1号店 sebamed 施巴 洗护用品专场　满199减100</td><td><p>1号店目前开启了一个sebamed施巴洗护用品的满减活动，力度为满199减100活动，本身不少产品比京东定价要便宜一点，满减后近期好价。</p>\n",
       "<p>例如施巴5.5洁肤皂100g，各地区售价均为45.8元，可购买多件，<strong>买两块</strong>，凑单<strong>两块</strong>白色57.6元的施巴洁面皂100g，满减后总价106.8元。</p>\n",
       "<p>还有这款施巴粉刺护理啫喱10ML，各地售价120元，需要的值友也可凑单满减至60元出头的价格。需要注意的是这次促销活动<strong>各地区参加活动的商品数量，以及某些活动商品的价格有些不同</strong>，值友们可以根据自己需要凑单购买。之前京东不少商品部分地区已经无货了，没买到的家长的可以考虑。 </p>\n",
       "<p><a href=\"http://www.smzdm.com/p/678379\">购买详情链接</a><br><img src=\"http://d8.yihaodianimg.com/N03/M00/2D/29/CgQCtFE4Qs-AHVodAAE6ghQqBjg06601_360x360.jpg\" height=\"110\" width=\"110\"><span>施巴5.5洁肤皂 100g</span><span>各地区售价均为45.8元，可购买多件，买两块凑单两块白色57.6元的施巴洁面皂100g，满减后总价106.8元。</span><span>45.8元1号店</span>\n",
       "</p><p> </p>\n",
       "<p><img src=\"http://d8.yihaodianimg.com/N02/M0B/7F/17/CgQCsFPglTiABkQOAAIhiKHf4vk43601_360x360.jpg\"><span>Sebamed 施巴 粉刺护理啫喱 10ML 德国进口</span><span>各地售价120元，需要的值友也可凑单满减至80元出头的价格。</span><span>120元1号店</span>\n",
       "</p><p> </p>\n",
       "<p><br></p>\n",
       "<p>促销活动：1号店 sebamed 施巴 洗护用品专场　满199减100，首发于什么值得买。</p>                    <p>本文来自<a href=\"http://www.smzdm.com/p/678379\">什么值得买网站（www.smzdm.com）</a>。</p></td></tr><tr><td>LOCK&LOCK 乐扣乐扣 LLG445S911 格拉斯耐热玻璃保鲜盒4件套*2+凑单品　100.2元包邮（200.2-100，还可用券）</td><td><p>乐扣乐扣格拉斯耐热玻璃保鲜盒4件套LLG445S911，盒身为硼硅酸盐耐热玻璃材质，加热冷冻无压力，易清洗，耐腐蚀，微波炉烤箱均可使用。PP聚丙烯材质盒盖，耐高温、无毒害，环保健康。盒盖处添加硅胶圈，可防止泄露，增强密封性。耐热耐冷性强，可以在微波炉/烤箱中使用。此款套装包含1个380mL、2个630mL、1个1L的保鲜盒。</p>\n",
       "<p>京东目前售价99元，还可参加满200-100活动，下单2套，凑单牙签，满减后实付100.2元包邮，各渠道低价，还可用全品类优惠券，有需要的朋友可以考虑。</p>\n",
       "<p><br><a href=\"http://www.smzdm.com/p/678377\">购买详情链接</a><br><img src=\"http://ym.zdmimg.com/201506/04/55701420ac11d.jpg_e600.jpg\" alt=\"\"></p>\n",
       "<p><br><img src=\"http://ym.zdmimg.com/201506/04/55701a5145219307.jpg_e600.jpg\" alt=\"\"></p>\n",
       "<p>LOCK&amp;LOCK 乐扣乐扣 LLG445S911 格拉斯耐热玻璃保鲜盒4件套*2+凑单品　100.2元包邮（200.2-100，还可用券），首发于什么值得买。</p>                    <p>本文来自<a href=\"http://www.smzdm.com/p/678377\">什么值得买网站（www.smzdm.com）</a>。</p></td></tr><tr><td>RIWA 雷瓦 专业三合一电动理发器套装 RE-550A　59元包邮</td><td><p>值友“fangzhi”之前的推荐理由：“RIWA雷瓦是国内知名的小家电品牌，这款型号RE-550A的电动理发器套装，采用可拆卸402精钢可水洗机头，进口ABS树脂机身，一机多用，可完成理发，剃须，修鼻等任何毛发部位的修剪，采用7800转高速优质电机，附件包括底座和限位梳等。</p>\n",
       "<p>国美在线59元，全网最低价，再次来到了之前优惠频道推荐的最低价格，同款1号店、易迅网99元，有需求的网友可以入手。<a href=\"http://www.smzdm.com/p/678381\">购买详情链接</a><br><img src=\"http://ym.zdmimg.com/201506/04/55701a80e4b97.jpg_e600.jpg\" alt=\"\"></p>\n",
       "<p>RIWA 雷瓦 专业三合一电动理发器套装 RE-550A　59元包邮，首发于什么值得买。</p>                    <p>本文来自<a href=\"http://www.smzdm.com/p/678381\">什么值得买网站（www.smzdm.com）</a>。</p></td></tr></table>"
      ],
      "text/plain": [
       "[['title', 'content'],\n",
       " [u'\\u624b\\u673a\\u7aef\\uff1aHiVi \\u60e0\\u5a01 GT1000 2.1 \\u591a\\u5a92\\u4f53\\u97f3\\u7bb1\\u3000349\\u5143\\u5305\\u90ae\\uff08499-150\\uff09',\n",
       "  u'<p><strong>\\u60e0\\u5a012.1\\u97f3\\u7bb1\\u5e73\\u5386\\u53f2\\u4f4e\\u4ef7\\uff0c\\u652f\\u6301\\u84dd\\u7259</strong>\\u3002\\u8fd9\\u6b3e\\u60e0\\u5a01\\u6e38\\u620f\\u97f3\\u7bb1GT1000\\uff0c\\u4e3a\\u5176GameTheater\\u7cfb\\u5217\\uff0c2.1\\u7684\\u914d\\u7f6e\\u4e3b\\u6253\\u6e38\\u620f\\uff0c\\u5e76\\u4e14\\u5185\\u7f6e\\u84dd\\u7259\\u6a21\\u5757\\uff0c\\u53ef\\u4ee5\\u4e0e\\u624b\\u673a\\u6216\\u7b14\\u8bb0\\u672c\\u65e0\\u7ebf\\u8fde\\u63a5\\uff0c\\u91c7\\u75286.5\\u82f1\\u5bf8\\u4f4e\\u97f3\\u70ae\\uff0c\\u201cX\\u201d\\u7684\\u9020\\u578b\\u642d\\u914d\\u9ad8\\u5149\\u955c\\u9762\\uff0c\\u5916\\u89c2\\u4e0a\\u5012\\u4e5f\\u8fd8\\u4e0d\\u9519\\uff0c\\u800c\\u536b\\u661f\\u7bb1\\u91c7\\u75282\\u5206\\u9891\\u8bbe\\u8ba1\\uff0c\\u914d\\u5907\\u4e86\\xa03\\u82f1\\u5bf8\\u4e2d\\u9891\\u548c3/4\\u82f1\\u5bf8\\u7403\\u9876\\u9ad8\\u9891\\uff0c\\u603b\\u529f\\u7387\\u4e3a33.6W\\u3002</p>\\n<p>\\u4eac\\u4e1c\\u76ee\\u524d\\u624b\\u673a\\u7aef\\u552e\\u4ef7499\\u5143\\uff0c\\u4f7f\\u7528499-150\\u4f18\\u60e0\\u5238\\uff0c\\u5b9e\\u4ed8349\\u5143\\u5230\\u624b\\uff0c\\u5e73\\u5386\\u53f2\\u4f4e\\u4ef7\\uff0c\\u4e4b\\u524d\\u8fd9\\u4e2a\\u4ef7\\u683c\\u8f6c\\u77ac\\u5373\\u901d\\uff0c\\u4ece\\u4e4b\\u524d\\u8bc4\\u4ef7\\u6765\\u770b\\uff0c\\u57fa\\u672c\\u4e0a\\u662f500\\u5143\\u4ef7\\u4f4d\\u6700\\u503c\\u5f97\\u5165\\u624b\\u76842.1\\u97f3\\u7bb1\\u3002<a href=\"http://www.smzdm.com/p/678399\">\\u8d2d\\u4e70\\u8be6\\u60c5\\u94fe\\u63a5</a><br><img src=\"http://ym.zdmimg.com/201506/04/5570410a952c7.jpg_e600.jpg\" alt=\"\"></p>\\n<p>\\u624b\\u673a\\u7aef\\uff1aHiVi \\u60e0\\u5a01 GT1000 2.1 \\u591a\\u5a92\\u4f53\\u97f3\\u7bb1\\u3000349\\u5143\\u5305\\u90ae\\uff08499-150\\uff09\\uff0c\\u9996\\u53d1\\u4e8e\\u4ec0\\u4e48\\u503c\\u5f97\\u4e70\\u3002</p>                    <p>\\u672c\\u6587\\u6765\\u81ea<a href=\"http://www.smzdm.com/p/678399\">\\u4ec0\\u4e48\\u503c\\u5f97\\u4e70\\u7f51\\u7ad9\\uff08www.smzdm.com\\uff09</a>\\u3002</p>'],\n",
       " [u'Sofy \\u82cf\\u83f2 \\u8d85\\u719f\\u7761 \\u5b89\\u5fc3\\u88e4M\\u53f7  2\\u7247*10\\u5305\\uff08\\u7bb1\\u88c5\\uff09*2+\\u51d1\\u5355\\u54c1\\u3000101\\u5143\\u5305\\u90ae\\uff08201-100\\uff0c\\u54082.5\\u5143/\\u7247\\uff09',\n",
       "  u'<p>Sofy \\u82cf\\u83f2 \\u8d85\\u719f\\u7761\\u5b89\\u5fc3\\u88e4\\uff0c\\u88e4\\u578b\\u536b\\u751f\\u5dfe\\uff0c\\u7c7b\\u4f3c\\u5a74\\u513f\\u7528\\u7684\\u62c9\\u62c9\\u88e4\\uff0c\\u5168\\u5305\\u56f4\\u8bbe\\u8ba1\\uff0c48.5cm\\u7684\\u8d85\\u957f\\u5438\\u6536\\u4f53\\uff0c\\u9002\\u5408\\u91cf\\u5927\\u7684MM\\u3002\\u5c0f\\u7f16\\u6ca1\\u6709\\u4ec0\\u4e48\\u4f7f\\u7528\\u4f53\\u9a8c\\u5c31\\u4e0d\\u8fc7\\u591a\\u4ecb\\u7ecd\\u4e86\\u3002M\\u53f7\\uff0c\\u9002\\u5408\\u8170\\u56f460cm-100cm\\u7684MM\\u3002\\u6b64\\u6b3e\\u89c4\\u683c\\u4e3a2\\u7247*8\\u5305\\u90012\\u5305 \\uff08\\u7bb1\\u88c5\\uff09\\u3002</p>\\n<p>\\u4eac\\u4e1c\\u82cf\\u83f2\\u5b98\\u65b9\\u65d7\\u8230\\u5e97\\u76ee\\u524d\\u552e\\u4ef799\\u5143\\uff0c\\u53ef\\u6ee1199-100\\uff0c\\u4e0b\\u5355\\u4e24\\u7bb1\\uff0c\\u51d1\\u5355\\u8fd9\\u6b3e\\u6c90\\u6d74\\u9732\\uff0c\\u6ee1\\u51cf\\u540e\\u5b9e\\u4ed8101\\u5143\\u5305\\u90ae\\uff0c\\u4e70\\u523040\\u7247\\u5b89\\u5fc3\\u88e4\\uff0c\\u54082.5\\u5143/\\u7247\\uff0c\\u624b\\u91cc\\u5982\\u679c\\u6709\\u5168\\u54c1\\u7c7b\\u5238\\u7684\\u8bdd\\u8fd8\\u80fd\\u505a\\u5230\\u66f4\\u4f4e\\u3002\\u6709\\u9700\\u8981\\u7684MM\\u53ef\\u4ee5\\u8003\\u8651~</p>\\n<p><a href=\"http://www.smzdm.com/p/678395\">\\u8d2d\\u4e70\\u8be6\\u60c5\\u94fe\\u63a5</a><br><img src=\"http://ym.zdmimg.com/201506/04/557028a273417.jpg_e600.jpg\" alt=\"\"><br></p>\\n<p><br><img src=\"http://ym.zdmimg.com/201506/04/55703ceb4a0c48247.jpg_e600.jpg\" alt=\"\"></p>\\n<p>Sofy \\u82cf\\u83f2 \\u8d85\\u719f\\u7761 \\u5b89\\u5fc3\\u88e4M\\u53f7  2\\u7247*10\\u5305\\uff08\\u7bb1\\u88c5\\uff09*2+\\u51d1\\u5355\\u54c1\\u3000101\\u5143\\u5305\\u90ae\\uff08201-100\\uff0c\\u54082.5\\u5143/\\u7247\\uff09\\uff0c\\u9996\\u53d1\\u4e8e\\u4ec0\\u4e48\\u503c\\u5f97\\u4e70\\u3002</p>                    <p>\\u672c\\u6587\\u6765\\u81ea<a href=\"http://www.smzdm.com/p/678395\">\\u4ec0\\u4e48\\u503c\\u5f97\\u4e70\\u7f51\\u7ad9\\uff08www.smzdm.com\\uff09</a>\\u3002</p>'],\n",
       " [u'AKG \\u7231\\u79d1\\u6280 DJ\\u7cfb\\u5217 \\u4fbf\\u643a\\u5f0f\\u8033\\u673a K619\\u3000349\\u5143\\u5305\\u90ae\\uff08499-150\\uff09',\n",
       "  u'<p><strong>\\u52a8\\u6b21\\u6253\\u6b21\\uff0c\\u52a8\\u6b21\\u6253\\u6b21\\uff0cK619\\u56fd\\u884c\\u65b0\\u4f4e\\u4ef7\\uff01</strong>AKG\\u7684DJ\\u7cfb\\u5217\\u6709K181\\u3001K518\\u3001K619\\u51e0\\u6b3e\\u3002K619\\u662f\\u504f\\u9ad8\\u7aef\\u7684\\u4e00\\u6b3e\\uff0c\\u517c\\u5177\\u4e86DJ\\u7cfb\\u5217\\u76d1\\u542c\\u7ea7\\u7684\\u97f3\\u6548\\u53ca\\u65f6\\u5c1a\\u7684\\u5916\\u89c2\\u3002DJ\\u7cfb\\u7684\\u8033\\u673a\\uff0c\\u6309\\u7406\\u8bf4\\u4f4e\\u9891\\u5dee\\u4e0d\\u4e86\\u3002\\u4f46\\u5c0f\\u7f16\\u7684\\u786e\\u5bf9\\u8fd9\\u6b3e\\u8033\\u673a\\u6709\\u4e9b\\u201c\\u4e0d\\u660e\\u89c9\\u5389\\u201d\\u7684\\u611f\\u89c9\\u3002\\u6240\\u4ee5\\u53ea\\u80fd\\u62ff\\u5916\\u89c2\\u548c\\u4ef7\\u683c\\u6765\\u8bf4\\u4e8b\\u4e86\\u3002\\u6837\\u5b50\\u4e0d\\u9519\\uff0c\\u591a\\u79cd\\u4eae\\u4e3d\\u989c\\u8272\\u53ef\\u9009\\uff0c\\u4f69\\u6234\\u4e5f\\u6bd4\\u8f83\\u8212\\u9002\\u3002</p>\\n<p>\\u4eac\\u4e1cAKG\\u5b98\\u65b9\\u65d7\\u8230\\u5e97\\u76ee\\u524d\\u552e\\u4ef7499\\u5143\\u5305\\u90ae\\uff0c\\u53ef\\u752820\\u4eac\\u8c46\\u5151\\u6362\\u7684499-150\\u4f18\\u60e0\\u5238\\uff0c\\u7528\\u5238\\u540e\\u5b9e\\u4ed8349\\u5143\\u5305\\u90ae\\uff0c\\u5386\\u53f2\\u65b0\\u4f4e~\\u5bf9\\u4e8eDJ\\u8033\\u673a\\u6709\\u6240\\u9700\\u6c42\\u7684\\u7f51\\u53cb\\u53ef\\u4ee5\\u5173\\u6ce8~\\u53e6\\u5916\\u6613\\u8fc5\\u7528\\u5238\\u540e\\u540c\\u6837\\u53ef\\u505a\\u5230349\\u5143~</p>\\n<p><a href=\"http://www.smzdm.com/p/678389\">\\u8d2d\\u4e70\\u8be6\\u60c5\\u94fe\\u63a5</a><br><img src=\"http://y.zdmimg.com/201311/10/2b743e15.jpg_e600.jpg\" alt=\"\"></p>\\n<p><img src=\"http://ym.zdmimg.com/201506/04/5570329ca9eb64454.jpg_e600.jpg\"></p>\\n<p><img src=\"http://ym.zdmimg.com/201506/04/5570326a4a3308384.jpg_e600.jpg\" alt=\"\"></p>\\n<p><br></p>\\n<p><br><img src=\"http://ym.zdmimg.com/201506/04/557032ca63294825.jpg_e600.jpg\" alt=\"\"></p>\\n<p>AKG \\u7231\\u79d1\\u6280 DJ\\u7cfb\\u5217 \\u4fbf\\u643a\\u5f0f\\u8033\\u673a K619\\u3000349\\u5143\\u5305\\u90ae\\uff08499-150\\uff09\\uff0c\\u9996\\u53d1\\u4e8e\\u4ec0\\u4e48\\u503c\\u5f97\\u4e70\\u3002</p>                    <p>\\u672c\\u6587\\u6765\\u81ea<a href=\"http://www.smzdm.com/p/678389\">\\u4ec0\\u4e48\\u503c\\u5f97\\u4e70\\u7f51\\u7ad9\\uff08www.smzdm.com\\uff09</a>\\u3002</p>'],\n",
       " [u'\\u518d\\u7279\\u4ef7\\uff1aPanasonic \\u677e\\u4e0b RP-SSB240GAK 240G \\u56fa\\u6001\\u786c\\u76d8\\u3000569\\u5143\\u5305\\u90ae\\uff08599-30\\uff09',\n",
       "  u'<p>\\u4e1c\\u829d\\u8fd9\\u6b3eRP-SSB240GAK\\u56fa\\u6001\\u786c\\u76d8\\u91c7\\u7528OCZ\\u7684Barefoot 3 M10\\u4e3b\\u63a7\\uff0cSATA 6Gbps\\u63a5\\u53e3\\uff0c\\u642d\\u8f7d\\u4e1c\\u829d19nm MLC\\u95ea\\u5b58\\u3002\\u5728\\u5927\\u5bb6\\u5173\\u5fc3\\u7684\\u901f\\u5ea6\\u65b9\\u9762\\uff0c240G\\u5bb9\\u91cf\\u5b98\\u65b9\\u6807\\u79f0\\u8bfb\\u53d6\\u901f\\u5ea6\\u4e3a540MB/s\\uff0c\\u6700\\u9ad8\\u5199\\u5165\\u901f\\u5ea6\\u4e3a525MB/s\\uff0c\\u5199\\u5165\\u901f\\u5ea6\\u8ba9\\u4eba\\u6ee1\\u610f\\u3002\\u968f\\u673a\\u8bfb\\u5199\\u6027\\u80fd90000/85000IOPS\\u30027mm\\u539a\\u5ea6\\u57fa\\u672c\\u4e0a\\u5165\\u7b14\\u8bb0\\u672c\\u95ee\\u9898\\u4e0d\\u5927\\uff0c\\u4ea7\\u5730\\u4e3a\\u53f0\\u6e7e\\uff0c\\u53ef\\u4eab\\u53d73\\u5e74\\u8d28\\u4fdd\\u3002\\xa0</p>\\n<p>\\u4eac\\u4e1c\\u76ee\\u524d\\u518d\\u6b21\\u7279\\u4ef7\\u81f3599\\u5143\\uff0c\\u53ef\\u4f7f\\u7528500-30\\u4f18\\u60e0\\u5238\\u5b9e\\u4ed8569\\u5143\\u5230\\u624b\\uff0c\\u4e0a\\u6b21\\u63a8\\u8350\\u8fc7\\u540e\\u5f88\\u5feb\\u6da8\\u4ef7\\u4e86\\uff0c\\u76ee\\u524d\\u518d\\u7279\\u4ef7\\u6ca1\\u6709\\u4e70\\u5230\\u7684\\u7f51\\u53cb\\u8fd9\\u6b21\\u53ef\\u4ee5\\u7ee7\\u7eed\\u8d2d\\u4e70\\u4e86\\u3002<a href=\"http://www.smzdm.com/p/678387\">\\u8d2d\\u4e70\\u8be6\\u60c5\\u94fe\\u63a5</a><br><img src=\"http://ym.zdmimg.com/201506/04/55701c766ee29.jpg_e600.jpg\" alt=\"\"></p>\\n<p>\\u518d\\u7279\\u4ef7\\uff1aPanasonic \\u677e\\u4e0b RP-SSB240GAK 240G \\u56fa\\u6001\\u786c\\u76d8\\u3000569\\u5143\\u5305\\u90ae\\uff08599-30\\uff09\\uff0c\\u9996\\u53d1\\u4e8e\\u4ec0\\u4e48\\u503c\\u5f97\\u4e70\\u3002</p>                    <p>\\u672c\\u6587\\u6765\\u81ea<a href=\"http://www.smzdm.com/p/678387\">\\u4ec0\\u4e48\\u503c\\u5f97\\u4e70\\u7f51\\u7ad9\\uff08www.smzdm.com\\uff09</a>\\u3002</p>'],\n",
       " [u'beyerdynamic \\u62dc\\u4e9a\\u52a8\\u529b T90 \\u5934\\u6234\\u5f0f\\u8033\\u673a\\u30002499\\u5143\\u5305\\u90ae\\uff082999-500\\uff09',\n",
       "  u'<p><strong>\\u5fb7\\u4ea7\\u7279\\u65af\\u62c9\\u5355\\u5143\\u6b21\\u65d7\\u8230\\u8033\\u673a\\uff0c\\u6bd4\\u6628\\u5929\\u518d\\u964d150\\u3002</strong>beyerdynamic\\u62dc\\u4e9a\\u52a8\\u529bT90\\uff0c\\u91c7\\u7528\\u5f00\\u653e\\u5f0f\\u7279\\u65af\\u62c9\\u6280\\u672f\\u52a8\\u5708\\uff0c\\u9891\\u54cd\\u8303\\u56f4\\u4e3a5Hz\\u2014\\u201440KHz\\uff0c\\u963b\\u6297250\\u6b27\\uff0c\\u6807\\u79f0\\u58f0\\u538b\\u7ea7\\u4e3a102dB\\uff081mW/500Hz\\uff09\\uff0c\\u4e0d\\u542b\\u5bfc\\u7ebf\\u7684\\u91cd\\u91cf\\u4e3a330g\\uff0c\\u5305\\u8033\\u5f0f\\u6784\\u9020\\uff0c\\u5bfc\\u7ebf\\u548c\\u63d2\\u5934\\u5206\\u522b\\u91c7\\u75283.5mm\\u7684\\u9540\\u91d1\\u8ff7\\u4f60\\u63d2\\u5934\\u548c6.35mm\\u76841/4\\u5bf8\\u63d2\\u5934\\uff0c\\u5305\\u88c5\\u5185\\u542b\\u4e00\\u526f\\u8033\\u673a\\u548c\\u4e00\\u5f20\\u4fdd\\u4fee\\u5361\\u3002</p>\\n<p>\\u6613\\u8fc5\\u7f51\\u76ee\\u524d\\u552e\\u4ef72999\\u5143\\uff0c\\u53ef\\u75281999-500\\u5f71\\u97f3\\u5238\\uff0c\\u6ee1\\u51cf\\u5b9e\\u4ed82499\\u5143\\u5305\\u90ae\\uff0c\\u6bd4\\u6628\\u5929\\u518d\\u964d150\\uff0c\\u767d\\u7259\\u9ad8\\u963b\\u6b21\\u65d7\\u8230\\u5934\\u6234\\u8033\\u673a\\u8fd1\\u671f\\u597d\\u4ef7\\uff0c\\u4f46\\u662f\\u8f83\\u9ad8\\u7684\\u963b\\u6297\\u5bf9\\u524d\\u7aef\\u81ea\\u7136\\u4e5f\\u6709\\u4e00\\u5b9a\\u7684\\u8981\\u6c42\\u3002</p>\\n<p><br><a href=\"http://www.smzdm.com/p/678385\">\\u8d2d\\u4e70\\u8be6\\u60c5\\u94fe\\u63a5</a><br><img src=\"http://ym.zdmimg.com/201506/03/556e0c1b41fc7.jpg_e600.jpg\"></p>\\n<p><br></p>\\n<p>beyerdynamic \\u62dc\\u4e9a\\u52a8\\u529b T90 \\u5934\\u6234\\u5f0f\\u8033\\u673a\\u30002499\\u5143\\u5305\\u90ae\\uff082999-500\\uff09\\uff0c\\u9996\\u53d1\\u4e8e\\u4ec0\\u4e48\\u503c\\u5f97\\u4e70\\u3002</p>                    <p>\\u672c\\u6587\\u6765\\u81ea<a href=\"http://www.smzdm.com/p/678385\">\\u4ec0\\u4e48\\u503c\\u5f97\\u4e70\\u7f51\\u7ad9\\uff08www.smzdm.com\\uff09</a>\\u3002</p>'],\n",
       " [u'SID \\u8d85\\u4eba SF7312 1600w \\u7535\\u5439\\u98ce\\u300019.9\\u5143\\u5305\\u90ae',\n",
       "  u'<p>\\u8d85\\u4eba\\u8fd9\\u6b3e\\u7535\\u5439\\u98ce\\uff0c\\u4e09\\u6321\\u98ce\\u901f\\u53ef\\u8c03\\uff0c\\u529f\\u73871600W\\uff0c\\u53ef\\u6298\\u53e0\\u65b9\\u4fbf\\u643a\\u5e26\\uff0c\\u5b98\\u65b9\\u79f0\\u9644\\u5e26\\u6052\\u6e29\\u8d1f\\u79bb\\u5b50\\uff0c\\u4e0d\\u8fc7\\u8fd9\\u4e2a\\u4ef7\\u4f4d\\u5927\\u5bb6\\u4e0d\\u8981\\u8fc7\\u4e8e\\u5f53\\u771f\\u4e86\\uff0c\\u6ee1\\u8db3\\u57fa\\u672c\\u9700\\u6c42\\u8fd8\\u662f\\u53ef\\u4ee5\\u7684~</p>\\n<p>\\u4eac\\u4e1c\\u76ee\\u524d\\u552e\\u4ef719.9\\u5143\\uff0c\\u4ef7\\u683c\\u4e0d\\u9519\\uff0c\\u8fd8\\u53ef\\u53c2\\u52a0\\u6ee1\\u51cf\\u6d3b\\u52a8\\uff0c\\u51d1\\u5355\\u4e5f\\u662f\\u597d\\u9009\\u62e9\\uff0c\\u9002\\u5408\\u7537\\u540c\\u80de\\u4ee5\\u53ca\\u5bf9\\u5439\\u98ce\\u673a\\u8981\\u6c42\\u4e0d\\u9ad8\\u7684\\u59b9\\u5b50\\u3002<a href=\"http://www.smzdm.com/p/678391\">\\u8d2d\\u4e70\\u8be6\\u60c5\\u94fe\\u63a5</a><br><img src=\"http://ym.zdmimg.com/201506/04/55702478c5436.jpg_e600.jpg\" alt=\"\"></p>\\n<p>SID \\u8d85\\u4eba SF7312 1600w \\u7535\\u5439\\u98ce\\u300019.9\\u5143\\u5305\\u90ae\\uff0c\\u9996\\u53d1\\u4e8e\\u4ec0\\u4e48\\u503c\\u5f97\\u4e70\\u3002</p>                    <p>\\u672c\\u6587\\u6765\\u81ea<a href=\"http://www.smzdm.com/p/678391\">\\u4ec0\\u4e48\\u503c\\u5f97\\u4e70\\u7f51\\u7ad9\\uff08www.smzdm.com\\uff09</a>\\u3002</p>'],\n",
       " [u'\\u82cf\\u5b81\\u8ddf\\u4ef7\\uff1aSHARP \\u590f\\u666e KC-W380S-W  \\u7a7a\\u6c14\\u51c0\\u5316\\u5668*2\\u53f0\\u30002799\\u5143\\uff0c\\u534e\\u5317\\u534e\\u53572999',\n",
       "  u'<p><b>\\u66f4\\u65b0\\uff1a\\u9ad8\\u7aef\\u4e00\\u4e9b\\u7684KI-CE60-W\\u4e5f\\u8ddf\\u4ef7\\u4e86\\uff0c\\u82cf\\u5b81\\u6613\\u8d2d5799\\u5143\\uff0c\\u4e70\\u4e00\\u9001\\u4e00\\uff0c\\u90a3\\u4e48\\uff0c\\u73b0\\u5728\\u5c31\\u7b49BB60\\u4e86~</b></p>\\n<p><strong>\\u590f\\u666e380CADR\\u503c\\u7a7a\\u6c14\\u51c0\\u5316\\u5668\\uff0c\\u82cf\\u5b81\\u8ddf\\u4ef7\\uff0c\\u540c\\u6837\\u4e70\\u4e00\\u9001\\u4e00\\u3002</strong>\\u4e0a\\u5348\\u521a\\u63a8\\u8350\\u4e86\\u4eac\\u4e1c\\u4e70\\u4e00\\u9001\\u4e002899\\u7684\\u4ef7\\u683c\\uff0c\\u4e0b\\u5348\\u82cf\\u5b81\\u6613\\u8d2d2799\\u5143\\uff0c\\u4e702\\u4ed81\\uff0c\\u6bd4\\u4e0a\\u5348\\u8fd8\\u4fbf\\u5b9c100\\uff0c\\u534e\\u5317\\u534e\\u5357\\u5219\\u662f2999\\u5143\\uff0c\\u7565\\u8d35\\u4e00\\u70b9\\uff0c\\u90fd\\u662f\\u795e\\u4ef7\\uff0c\\u4e0a\\u5348\\u6ca1\\u4e70\\u5230\\u7684\\u670b\\u53cb\\u4e0d\\u7528\\u518d\\u6c42\\u8f6c\\u4e86~<br></p>\\n<p><strong>\\u590f\\u666e380CADR\\u503c\\u7a7a\\u6c14\\u51c0\\u5316\\u5668\\u65b0\\u4f4e\\u4ef7~</strong>SHARP\\u590f\\u666eKC-W380S\\uff0c\\u662fW\\u7cfb\\u5217\\u7684380\\u65b0\\u6b3e\\u3002\\u4e3b\\u8981\\u529f\\u80fd\\u662f\\u9664\\u70df\\u3001\\u9664\\u5c18\\u3001\\u9664\\u4e00\\u6c27\\u5316\\u78b3\\u3001\\u6740\\u83cc\\u3001\\u65e0\\u96fe\\u52a0\\u6e7f\\u3002\\u51c0\\u5316\\u65b9\\u5f0f\\u4e3a\\u51c0\\u79bb\\u5b50\\u7fa4+3\\u91cd\\u6ee4\\u7f51\\uff08HEPA\\u96c6\\u5c18\\u6ee4\\u7f51\\u3001\\u8131\\u81ed\\u8fc7\\u6ee4\\u7f51\\u3001\\u524d\\u7f6e\\u9762\\u677f\\uff09\\u3002\\u566a\\u97f352dB\\uff0c\\u989d\\u5b9a\\u529f\\u738756W\\uff0c\\u6700\\u5927\\u52a0\\u6e7f\\u91cf730ml/h\\uff0c\\u9002\\u7528\\u9762\\u79ef\\u4e3a60\\u5e73\\u7c73\\u300211\\u9636\\u5f02\\u5473\\u663e\\u793a\\u706f\\uff0c\\u53ef\\u51c6\\u786e\\u53cd\\u6620\\u5b9e\\u65f6\\u7684\\u7a7a\\u6c14\\u8d28\\u91cf\\uff0c\\u6740\\u83cc\\u7387\\u4e3a99%\\uff08\\u5f00 \\u673a6\\u5c0f\\u65f6\\u540e\\uff09\\u3001PM2.5\\u8fc7\\u6ee4\\u738799.9%\\u3001\\u53bb\\u7532\\u919b\\u7387\\u4e3a99%\\u3001\\u53bb\\u5473\\u6548\\u679c\\u66f4\\u662f\\u8fbe\\u5230100%\\u3002</p>\\n<p><a href=\"http://www.smzdm.com/p/678393\">\\u8d2d\\u4e70\\u8be6\\u60c5\\u94fe\\u63a5</a><br><img src=\"http://ym.zdmimg.com/201506/04/5570365e37c167660.jpg_e600.jpg\" alt=\"\"></p>\\n<p><br><img src=\"http://ym.zdmimg.com/201506/04/5570377b068954513.jpg_e600.jpg\" alt=\"\"></p>\\n<p>\\u82cf\\u5b81\\u8ddf\\u4ef7\\uff1aSHARP \\u590f\\u666e KC-W380S-W  \\u7a7a\\u6c14\\u51c0\\u5316\\u5668*2\\u53f0\\u30002799\\u5143\\uff0c\\u534e\\u5317\\u534e\\u53572999\\uff0c\\u9996\\u53d1\\u4e8e\\u4ec0\\u4e48\\u503c\\u5f97\\u4e70\\u3002</p>                    <p>\\u672c\\u6587\\u6765\\u81ea<a href=\"http://www.smzdm.com/p/678393\">\\u4ec0\\u4e48\\u503c\\u5f97\\u4e70\\u7f51\\u7ad9\\uff08www.smzdm.com\\uff09</a>\\u3002</p>'],\n",
       " [u'\\u4fc3\\u9500\\u6d3b\\u52a8\\uff1a1\\u53f7\\u5e97 sebamed \\u65bd\\u5df4 \\u6d17\\u62a4\\u7528\\u54c1\\u4e13\\u573a\\u3000\\u6ee1199\\u51cf100',\n",
       "  u'<p>1\\u53f7\\u5e97\\u76ee\\u524d\\u5f00\\u542f\\u4e86\\u4e00\\u4e2asebamed\\u65bd\\u5df4\\u6d17\\u62a4\\u7528\\u54c1\\u7684\\u6ee1\\u51cf\\u6d3b\\u52a8\\uff0c\\u529b\\u5ea6\\u4e3a\\u6ee1199\\u51cf100\\u6d3b\\u52a8\\uff0c\\u672c\\u8eab\\u4e0d\\u5c11\\u4ea7\\u54c1\\u6bd4\\u4eac\\u4e1c\\u5b9a\\u4ef7\\u8981\\u4fbf\\u5b9c\\u4e00\\u70b9\\uff0c\\u6ee1\\u51cf\\u540e\\u8fd1\\u671f\\u597d\\u4ef7\\u3002</p>\\n<p>\\u4f8b\\u5982\\u65bd\\u5df45.5\\u6d01\\u80a4\\u7682100g\\uff0c\\u5404\\u5730\\u533a\\u552e\\u4ef7\\u5747\\u4e3a45.8\\u5143\\uff0c\\u53ef\\u8d2d\\u4e70\\u591a\\u4ef6\\uff0c<strong>\\u4e70\\u4e24\\u5757</strong>\\uff0c\\u51d1\\u5355<strong>\\u4e24\\u5757</strong>\\u767d\\u827257.6\\u5143\\u7684\\u65bd\\u5df4\\u6d01\\u9762\\u7682100g\\uff0c\\u6ee1\\u51cf\\u540e\\u603b\\u4ef7106.8\\u5143\\u3002</p>\\n<p>\\u8fd8\\u6709\\u8fd9\\u6b3e\\u65bd\\u5df4\\u7c89\\u523a\\u62a4\\u7406\\u556b\\u55b110ML\\uff0c\\u5404\\u5730\\u552e\\u4ef7120\\u5143\\uff0c\\u9700\\u8981\\u7684\\u503c\\u53cb\\u4e5f\\u53ef\\u51d1\\u5355\\u6ee1\\u51cf\\u81f360\\u5143\\u51fa\\u5934\\u7684\\u4ef7\\u683c\\u3002\\u9700\\u8981\\u6ce8\\u610f\\u7684\\u662f\\u8fd9\\u6b21\\u4fc3\\u9500\\u6d3b\\u52a8<strong>\\u5404\\u5730\\u533a\\u53c2\\u52a0\\u6d3b\\u52a8\\u7684\\u5546\\u54c1\\u6570\\u91cf\\uff0c\\u4ee5\\u53ca\\u67d0\\u4e9b\\u6d3b\\u52a8\\u5546\\u54c1\\u7684\\u4ef7\\u683c\\u6709\\u4e9b\\u4e0d\\u540c</strong>\\uff0c\\u503c\\u53cb\\u4eec\\u53ef\\u4ee5\\u6839\\u636e\\u81ea\\u5df1\\u9700\\u8981\\u51d1\\u5355\\u8d2d\\u4e70\\u3002\\u4e4b\\u524d\\u4eac\\u4e1c\\u4e0d\\u5c11\\u5546\\u54c1\\u90e8\\u5206\\u5730\\u533a\\u5df2\\u7ecf\\u65e0\\u8d27\\u4e86\\uff0c\\u6ca1\\u4e70\\u5230\\u7684\\u5bb6\\u957f\\u7684\\u53ef\\u4ee5\\u8003\\u8651\\u3002\\xa0</p>\\n<p><a href=\"http://www.smzdm.com/p/678379\">\\u8d2d\\u4e70\\u8be6\\u60c5\\u94fe\\u63a5</a><br><img src=\"http://d8.yihaodianimg.com/N03/M00/2D/29/CgQCtFE4Qs-AHVodAAE6ghQqBjg06601_360x360.jpg\" height=\"110\" width=\"110\"><span>\\u65bd\\u5df45.5\\u6d01\\u80a4\\u7682 100g</span><span>\\u5404\\u5730\\u533a\\u552e\\u4ef7\\u5747\\u4e3a45.8\\u5143\\uff0c\\u53ef\\u8d2d\\u4e70\\u591a\\u4ef6\\uff0c\\u4e70\\u4e24\\u5757\\u51d1\\u5355\\u4e24\\u5757\\u767d\\u827257.6\\u5143\\u7684\\u65bd\\u5df4\\u6d01\\u9762\\u7682100g\\uff0c\\u6ee1\\u51cf\\u540e\\u603b\\u4ef7106.8\\u5143\\u3002</span><span>45.8\\u51431\\u53f7\\u5e97</span>\\n</p><p>\\xa0</p>\\n<p><img src=\"http://d8.yihaodianimg.com/N02/M0B/7F/17/CgQCsFPglTiABkQOAAIhiKHf4vk43601_360x360.jpg\"><span>Sebamed \\u65bd\\u5df4 \\u7c89\\u523a\\u62a4\\u7406\\u556b\\u55b1 10ML \\u5fb7\\u56fd\\u8fdb\\u53e3</span><span>\\u5404\\u5730\\u552e\\u4ef7120\\u5143\\uff0c\\u9700\\u8981\\u7684\\u503c\\u53cb\\u4e5f\\u53ef\\u51d1\\u5355\\u6ee1\\u51cf\\u81f380\\u5143\\u51fa\\u5934\\u7684\\u4ef7\\u683c\\u3002</span><span>120\\u51431\\u53f7\\u5e97</span>\\n</p><p>\\xa0</p>\\n<p><br></p>\\n<p>\\u4fc3\\u9500\\u6d3b\\u52a8\\uff1a1\\u53f7\\u5e97 sebamed \\u65bd\\u5df4 \\u6d17\\u62a4\\u7528\\u54c1\\u4e13\\u573a\\u3000\\u6ee1199\\u51cf100\\uff0c\\u9996\\u53d1\\u4e8e\\u4ec0\\u4e48\\u503c\\u5f97\\u4e70\\u3002</p>                    <p>\\u672c\\u6587\\u6765\\u81ea<a href=\"http://www.smzdm.com/p/678379\">\\u4ec0\\u4e48\\u503c\\u5f97\\u4e70\\u7f51\\u7ad9\\uff08www.smzdm.com\\uff09</a>\\u3002</p>'],\n",
       " [u'LOCK&LOCK \\u4e50\\u6263\\u4e50\\u6263 LLG445S911 \\u683c\\u62c9\\u65af\\u8010\\u70ed\\u73bb\\u7483\\u4fdd\\u9c9c\\u76d24\\u4ef6\\u5957*2+\\u51d1\\u5355\\u54c1\\u3000100.2\\u5143\\u5305\\u90ae\\uff08200.2-100\\uff0c\\u8fd8\\u53ef\\u7528\\u5238\\uff09',\n",
       "  u'<p>\\u4e50\\u6263\\u4e50\\u6263\\u683c\\u62c9\\u65af\\u8010\\u70ed\\u73bb\\u7483\\u4fdd\\u9c9c\\u76d24\\u4ef6\\u5957LLG445S911\\uff0c\\u76d2\\u8eab\\u4e3a\\u787c\\u7845\\u9178\\u76d0\\u8010\\u70ed\\u73bb\\u7483\\u6750\\u8d28\\uff0c\\u52a0\\u70ed\\u51b7\\u51bb\\u65e0\\u538b\\u529b\\uff0c\\u6613\\u6e05\\u6d17\\uff0c\\u8010\\u8150\\u8680\\uff0c\\u5fae\\u6ce2\\u7089\\u70e4\\u7bb1\\u5747\\u53ef\\u4f7f\\u7528\\u3002PP\\u805a\\u4e19\\u70ef\\u6750\\u8d28\\u76d2\\u76d6\\uff0c\\u8010\\u9ad8\\u6e29\\u3001\\u65e0\\u6bd2\\u5bb3\\uff0c\\u73af\\u4fdd\\u5065\\u5eb7\\u3002\\u76d2\\u76d6\\u5904\\u6dfb\\u52a0\\u7845\\u80f6\\u5708\\uff0c\\u53ef\\u9632\\u6b62\\u6cc4\\u9732\\uff0c\\u589e\\u5f3a\\u5bc6\\u5c01\\u6027\\u3002\\u8010\\u70ed\\u8010\\u51b7\\u6027\\u5f3a\\uff0c\\u53ef\\u4ee5\\u5728\\u5fae\\u6ce2\\u7089/\\u70e4\\u7bb1\\u4e2d\\u4f7f\\u7528\\u3002\\u6b64\\u6b3e\\u5957\\u88c5\\u5305\\u542b1\\u4e2a380mL\\u30012\\u4e2a630mL\\u30011\\u4e2a1L\\u7684\\u4fdd\\u9c9c\\u76d2\\u3002</p>\\n<p>\\u4eac\\u4e1c\\u76ee\\u524d\\u552e\\u4ef799\\u5143\\uff0c\\u8fd8\\u53ef\\u53c2\\u52a0\\u6ee1200-100\\u6d3b\\u52a8\\uff0c\\u4e0b\\u53552\\u5957\\uff0c\\u51d1\\u5355\\u7259\\u7b7e\\uff0c\\u6ee1\\u51cf\\u540e\\u5b9e\\u4ed8100.2\\u5143\\u5305\\u90ae\\uff0c\\u5404\\u6e20\\u9053\\u4f4e\\u4ef7\\uff0c\\u8fd8\\u53ef\\u7528\\u5168\\u54c1\\u7c7b\\u4f18\\u60e0\\u5238\\uff0c\\u6709\\u9700\\u8981\\u7684\\u670b\\u53cb\\u53ef\\u4ee5\\u8003\\u8651\\u3002</p>\\n<p><br><a href=\"http://www.smzdm.com/p/678377\">\\u8d2d\\u4e70\\u8be6\\u60c5\\u94fe\\u63a5</a><br><img src=\"http://ym.zdmimg.com/201506/04/55701420ac11d.jpg_e600.jpg\" alt=\"\"></p>\\n<p><br><img src=\"http://ym.zdmimg.com/201506/04/55701a5145219307.jpg_e600.jpg\" alt=\"\"></p>\\n<p>LOCK&amp;LOCK \\u4e50\\u6263\\u4e50\\u6263 LLG445S911 \\u683c\\u62c9\\u65af\\u8010\\u70ed\\u73bb\\u7483\\u4fdd\\u9c9c\\u76d24\\u4ef6\\u5957*2+\\u51d1\\u5355\\u54c1\\u3000100.2\\u5143\\u5305\\u90ae\\uff08200.2-100\\uff0c\\u8fd8\\u53ef\\u7528\\u5238\\uff09\\uff0c\\u9996\\u53d1\\u4e8e\\u4ec0\\u4e48\\u503c\\u5f97\\u4e70\\u3002</p>                    <p>\\u672c\\u6587\\u6765\\u81ea<a href=\"http://www.smzdm.com/p/678377\">\\u4ec0\\u4e48\\u503c\\u5f97\\u4e70\\u7f51\\u7ad9\\uff08www.smzdm.com\\uff09</a>\\u3002</p>'],\n",
       " [u'RIWA \\u96f7\\u74e6 \\u4e13\\u4e1a\\u4e09\\u5408\\u4e00\\u7535\\u52a8\\u7406\\u53d1\\u5668\\u5957\\u88c5 RE-550A\\u300059\\u5143\\u5305\\u90ae',\n",
       "  u'<p>\\u503c\\u53cb\\u201cfangzhi\\u201d\\u4e4b\\u524d\\u7684\\u63a8\\u8350\\u7406\\u7531\\uff1a\\u201cRIWA\\u96f7\\u74e6\\u662f\\u56fd\\u5185\\u77e5\\u540d\\u7684\\u5c0f\\u5bb6\\u7535\\u54c1\\u724c\\uff0c\\u8fd9\\u6b3e\\u578b\\u53f7RE-550A\\u7684\\u7535\\u52a8\\u7406\\u53d1\\u5668\\u5957\\u88c5\\uff0c\\u91c7\\u7528\\u53ef\\u62c6\\u5378402\\u7cbe\\u94a2\\u53ef\\u6c34\\u6d17\\u673a\\u5934\\uff0c\\u8fdb\\u53e3ABS\\u6811\\u8102\\u673a\\u8eab\\uff0c\\u4e00\\u673a\\u591a\\u7528\\uff0c\\u53ef\\u5b8c\\u6210\\u7406\\u53d1\\uff0c\\u5243\\u987b\\uff0c\\u4fee\\u9f3b\\u7b49\\u4efb\\u4f55\\u6bdb\\u53d1\\u90e8\\u4f4d\\u7684\\u4fee\\u526a\\uff0c\\u91c7\\u75287800\\u8f6c\\u9ad8\\u901f\\u4f18\\u8d28\\u7535\\u673a\\uff0c\\u9644\\u4ef6\\u5305\\u62ec\\u5e95\\u5ea7\\u548c\\u9650\\u4f4d\\u68b3\\u7b49\\u3002</p>\\n<p>\\u56fd\\u7f8e\\u5728\\u7ebf59\\u5143\\uff0c\\u5168\\u7f51\\u6700\\u4f4e\\u4ef7\\uff0c\\u518d\\u6b21\\u6765\\u5230\\u4e86\\u4e4b\\u524d\\u4f18\\u60e0\\u9891\\u9053\\u63a8\\u8350\\u7684\\u6700\\u4f4e\\u4ef7\\u683c\\uff0c\\u540c\\u6b3e1\\u53f7\\u5e97\\u3001\\u6613\\u8fc5\\u7f5199\\u5143\\uff0c\\u6709\\u9700\\u6c42\\u7684\\u7f51\\u53cb\\u53ef\\u4ee5\\u5165\\u624b\\u3002<a href=\"http://www.smzdm.com/p/678381\">\\u8d2d\\u4e70\\u8be6\\u60c5\\u94fe\\u63a5</a><br><img src=\"http://ym.zdmimg.com/201506/04/55701a80e4b97.jpg_e600.jpg\" alt=\"\"></p>\\n<p>RIWA \\u96f7\\u74e6 \\u4e13\\u4e1a\\u4e09\\u5408\\u4e00\\u7535\\u52a8\\u7406\\u53d1\\u5668\\u5957\\u88c5 RE-550A\\u300059\\u5143\\u5305\\u90ae\\uff0c\\u9996\\u53d1\\u4e8e\\u4ec0\\u4e48\\u503c\\u5f97\\u4e70\\u3002</p>                    <p>\\u672c\\u6587\\u6765\\u81ea<a href=\"http://www.smzdm.com/p/678381\">\\u4ec0\\u4e48\\u503c\\u5f97\\u4e70\\u7f51\\u7ad9\\uff08www.smzdm.com\\uff09</a>\\u3002</p>']]"
      ]
     },
     "execution_count": 21,
     "metadata": {},
     "output_type": "execute_result"
    }
   ],
   "source": [
    "import random\n",
    "table = ListTable()\n",
    "table.append([\"title\", \"content\"])\n",
    "for i in Entry.objects.all():\n",
    "    table.append([i.title, i.content])\n",
    "table"
   ]
  },
  {
   "cell_type": "code",
   "execution_count": 22,
   "metadata": {
    "collapsed": false
   },
   "outputs": [
    {
     "name": "stdout",
     "output_type": "stream",
     "text": [
      "Enter password: ········\n",
      "Verify password: ········\n"
     ]
    },
    {
     "data": {
      "text/plain": [
       "'sha1:96b6954d678f:630c0a102b0b7e498dfed0b972f1b5ec19719c02'"
      ]
     },
     "execution_count": 22,
     "metadata": {},
     "output_type": "execute_result"
    }
   ],
   "source": [
    "from IPython.lib import passwd\n",
    "passwd()"
   ]
  },
  {
   "cell_type": "code",
   "execution_count": null,
   "metadata": {
    "collapsed": true
   },
   "outputs": [],
   "source": []
  }
 ],
 "metadata": {
  "kernelspec": {
   "display_name": "Django Shell-Plus",
   "language": "python",
   "name": "django_extensions"
  },
  "language_info": {
   "codemirror_mode": {
    "name": "ipython",
    "version": 2
   },
   "file_extension": ".py",
   "mimetype": "text/x-python",
   "name": "python",
   "nbconvert_exporter": "python",
   "pygments_lexer": "ipython2",
   "version": "2.7.9"
  }
 },
 "nbformat": 4,
 "nbformat_minor": 0
}
