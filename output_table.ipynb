{
 "cells": [
  {
   "cell_type": "code",
   "execution_count": 1,
   "metadata": {},
   "outputs": [
    {
     "name": "stdout",
     "output_type": "stream",
     "text": [
      "[<Entry: 手机端：HiVi 惠威 GT1000 2.1 多媒体音箱　349元包邮（499-150）>, <Entry: Sofy 苏菲 超熟睡 安心裤M号  2片*10包（箱装）*2+凑单品　101元包邮（201-100，合2.5元/片）>, <Entry: AKG 爱科技 DJ系列 便携式耳机 K619　349元包邮（499-150）>, <Entry: 再特价：Panasonic 松下 RP-SSB240GAK 240G 固态硬盘　569元包邮（599-30）>, <Entry: beyerdynamic 拜亚动力 T90 头戴式耳机　2499元包邮（2999-500）>, <Entry: SID 超人 SF7312 1600w 电吹风　19.9元包邮>, <Entry: 苏宁跟价：SHARP 夏普 KC-W380S-W  空气净化器*2台　2799元，华北华南2999>, <Entry: 促销活动：1号店 sebamed 施巴 洗护用品专场　满199减100>, <Entry: LOCK&LOCK 乐扣乐扣 LLG445S911 格拉斯耐热玻璃保鲜盒4件套*2+凑单品　100.2元包邮（200.2-100，还可用券）>, <Entry: RIWA 雷瓦 专业三合一电动理发器套装 RE-550A　59元包邮>]\n"
     ]
    }
   ],
   "source": [
    "from yarr.models import Entry\n",
    "print Entry.objects.all()"
   ]
  },
  {
   "cell_type": "code",
   "execution_count": 19,
   "metadata": {},
   "outputs": [],
   "source": [
    "class ListTable(list):\n",
    "    \"\"\" Overridden list class which takes a 2-dimensional list of \n",
    "        the form [[1,2,3],[4,5,6]], and renders an HTML Table in \n",
    "        IPython Notebook. \"\"\"\n",
    "    \n",
    "    def _repr_html_(self):\n",
    "        html = [u\"<table>\"]\n",
    "        for row in self:\n",
    "            html.append(u\"<tr>\")\n",
    "            \n",
    "            for col in row:\n",
    "                html.append(u\"<td>{0}</td>\".format(col))\n",
    "            \n",
    "            html.append(u\"</tr>\")\n",
    "        html.append(u\"</table>\")\n",
    "        return ''.join(html)"
   ]
  },
  {
   "cell_type": "code",
   "execution_count": 21,
   "metadata": {},
   "outputs": [
    {
     "data": {
      "text/html": [
       "<table><tr><td>title</td><td>content</td></tr><tr><td>手机端：HiVi 惠威 GT1000 2.1 多媒体音箱　349元包邮（499-150）</td><td><p><strong>惠威2.1音箱平历史低价，支持蓝牙</strong>。这款惠威游戏音箱GT1000，为其GameTheater系列，2.1的配置主打游戏，并且内置蓝牙模块，可以与手机或笔记本无线连接，采用6.5英寸低音炮，“X”的造型搭配高光镜面，外观上倒也还不错，而卫星箱采用2分频设计，配备了 3英寸中频和3/4英寸球顶高频，总功率为33.6W。</p>\n",
       "<p>京东目前手机端售价499元，使用499-150优惠券，实付349元到手，平历史低价，之前这个价格转瞬即逝，从之前评价来看，基本上是500元价位最值得入手的2.1音箱。<a href=\"http://www.smzdm.com/p/678399\">购买详情链接</a><br><img src=\"http://ym.zdmimg.com/201506/04/5570410a952c7.jpg_e600.jpg\" alt=\"\"></p>\n",
       "<p>手机端：HiVi 惠威 GT1000 2.1 多媒体音箱　349元包邮（499-150），首发于什么值得买。</p>                    <p>本文来自<a href=\"http://www.smzdm.com/p/678399\">什么值得买网站（www.smzdm.com）</a>。</p></td></tr><tr><td>Sofy 苏菲 超熟睡 安心裤M号  2片*10包（箱装）*2+凑单品　101元包邮（201-100，合2.5元/片）</td><td><p>Sofy 苏菲 超熟睡安心裤，裤型卫生巾，类似婴儿用的拉拉裤，全包围设计，48.5cm的超长吸收体，适合量大的MM。小编没有什么使用体验就不过多介绍了。M号，适合腰围60cm-100cm的MM。此款规格为2片*8包送2包 （箱装）。</p>\n",
       "<p>京东苏菲官方旗舰店目前售价99元，可满199-100，下单两箱，凑单这款沐浴露，满减后实付101元包邮，买到40片安心裤，合2.5元/片，手里如果有全品类券的话还能做到更低。有需要的MM可以考虑~</p>\n",
       "<p><a href=\"http://www.smzdm.com/p/678395\">购买详情链接</a><br><img src=\"http://ym.zdmimg.com/201506/04/557028a273417.jpg_e600.jpg\" alt=\"\"><br></p>\n",
       "<p><br><img src=\"http://ym.zdmimg.com/201506/04/55703ceb4a0c48247.jpg_e600.jpg\" alt=\"\"></p>\n",
       "<p>Sofy 苏菲 超熟睡 安心裤M号  2片*10包（箱装）*2+凑单品　101元包邮（201-100，合2.5元/片），首发于什么值得买。</p>                    <p>本文来自<a href=\"http://www.smzdm.com/p/678395\">什么值得买网站（www.smzdm.com）</a>。</p></td></tr><tr><td>AKG 爱科技 DJ系列 便携式耳机 K619　349元包邮（499-150）</td><td><p><strong>动次打次，动次打次，K619国行新低价！</strong>AKG的DJ系列有K181、K518、K619几款。K619是偏高端的一款，兼具了DJ系列监听级的音效及时尚的外观。DJ系的耳机，按理说低频差不了。但小编的确对这款耳机有些“不明觉厉”的感觉。所以只能拿外观和价格来说事了。样子不错，多种亮丽颜色可选，佩戴也比较舒适。</p>\n",
       "<p>京东AKG官方旗舰店目前售价499元包邮，可用20京豆兑换的499-150优惠券，用券后实付349元包邮，历史新低~对于DJ耳机有所需求的网友可以关注~另外易迅用券后同样可做到349元~</p>\n",
       "<p><a href=\"http://www.smzdm.com/p/678389\">购买详情链接</a><br><img src=\"http://y.zdmimg.com/201311/10/2b743e15.jpg_e600.jpg\" alt=\"\"></p>\n",
       "<p><img src=\"http://ym.zdmimg.com/201506/04/5570329ca9eb64454.jpg_e600.jpg\"></p>\n",
       "<p><img src=\"http://ym.zdmimg.com/201506/04/5570326a4a3308384.jpg_e600.jpg\" alt=\"\"></p>\n",
       "<p><br></p>\n",
       "<p><br><img src=\"http://ym.zdmimg.com/201506/04/557032ca63294825.jpg_e600.jpg\" alt=\"\"></p>\n",
       "<p>AKG 爱科技 DJ系列 便携式耳机 K619　349元包邮（499-150），首发于什么值得买。</p>                    <p>本文来自<a href=\"http://www.smzdm.com/p/678389\">什么值得买网站（www.smzdm.com）</a>。</p></td></tr><tr><td>再特价：Panasonic 松下 RP-SSB240GAK 240G 固态硬盘　569元包邮（599-30）</td><td><p>东芝这款RP-SSB240GAK固态硬盘采用OCZ的Barefoot 3 M10主控，SATA 6Gbps接口，搭载东芝19nm MLC闪存。在大家关心的速度方面，240G容量官方标称读取速度为540MB/s，最高写入速度为525MB/s，写入速度让人满意。随机读写性能90000/85000IOPS。7mm厚度基本上入笔记本问题不大，产地为台湾，可享受3年质保。 </p>\n",
       "<p>京东目前再次特价至599元，可使用500-30优惠券实付569元到手，上次推荐过后很快涨价了，目前再特价没有买到的网友这次可以继续购买了。<a href=\"http://www.smzdm.com/p/678387\">购买详情链接</a><br><img src=\"http://ym.zdmimg.com/201506/04/55701c766ee29.jpg_e600.jpg\" alt=\"\"></p>\n",
       "<p>再特价：Panasonic 松下 RP-SSB240GAK 240G 固态硬盘　569元包邮（599-30），首发于什么值得买。</p>                    <p>本文来自<a href=\"http://www.smzdm.com/p/678387\">什么值得买网站（www.smzdm.com）</a>。</p></td></tr><tr><td>beyerdynamic 拜亚动力 T90 头戴式耳机　2499元包邮（2999-500）</td><td><p><strong>德产特斯拉单元次旗舰耳机，比昨天再降150。</strong>beyerdynamic拜亚动力T90，采用开放式特斯拉技术动圈，频响范围为5Hz——40KHz，阻抗250欧，标称声压级为102dB（1mW/500Hz），不含导线的重量为330g，包耳式构造，导线和插头分别采用3.5mm的镀金迷你插头和6.35mm的1/4寸插头，包装内含一副耳机和一张保修卡。</p>\n",
       "<p>易迅网目前售价2999元，可用1999-500影音券，满减实付2499元包邮，比昨天再降150，白牙高阻次旗舰头戴耳机近期好价，但是较高的阻抗对前端自然也有一定的要求。</p>\n",
       "<p><br><a href=\"http://www.smzdm.com/p/678385\">购买详情链接</a><br><img src=\"http://ym.zdmimg.com/201506/03/556e0c1b41fc7.jpg_e600.jpg\"></p>\n",
       "<p><br></p>\n",
       "<p>beyerdynamic 拜亚动力 T90 头戴式耳机　2499元包邮（2999-500），首发于什么值得买。</p>                    <p>本文来自<a href=\"http://www.smzdm.com/p/678385\">什么值得买网站（www.smzdm.com）</a>。</p></td></tr><tr><td>SID 超人 SF7312 1600w 电吹风　19.9元包邮</td><td><p>超人这款电吹风，三挡风速可调，功率1600W，可折叠方便携带，官方称附带恒温负离子，不过这个价位大家不要过于当真了，满足基本需求还是可以的~</p>\n",
       "<p>京东目前售价19.9元，价格不错，还可参加满减活动，凑单也是好选择，适合男同胞以及对吹风机要求不高的妹子。<a href=\"http://www.smzdm.com/p/678391\">购买详情链接</a><br><img src=\"http://ym.zdmimg.com/201506/04/55702478c5436.jpg_e600.jpg\" alt=\"\"></p>\n",
       "<p>SID 超人 SF7312 1600w 电吹风　19.9元包邮，首发于什么值得买。</p>                    <p>本文来自<a href=\"http://www.smzdm.com/p/678391\">什么值得买网站（www.smzdm.com）</a>。</p></td></tr><tr><td>苏宁跟价：SHARP 夏普 KC-W380S-W  空气净化器*2台　2799元，华北华南2999</td><td><p><b>更新：高端一些的KI-CE60-W也跟价了，苏宁易购5799元，买一送一，那么，现在就等BB60了~</b></p>\n",
       "<p><strong>夏普380CADR值空气净化器，苏宁跟价，同样买一送一。</strong>上午刚推荐了京东买一送一2899的价格，下午苏宁易购2799元，买2付1，比上午还便宜100，华北华南则是2999元，略贵一点，都是神价，上午没买到的朋友不用再求转了~<br></p>\n",
       "<p><strong>夏普380CADR值空气净化器新低价~</strong>SHARP夏普KC-W380S，是W系列的380新款。主要功能是除烟、除尘、除一氧化碳、杀菌、无雾加湿。净化方式为净离子群+3重滤网（HEPA集尘滤网、脱臭过滤网、前置面板）。噪音52dB，额定功率56W，最大加湿量730ml/h，适用面积为60平米。11阶异味显示灯，可准确反映实时的空气质量，杀菌率为99%（开 机6小时后）、PM2.5过滤率99.9%、去甲醛率为99%、去味效果更是达到100%。</p>\n",
       "<p><a href=\"http://www.smzdm.com/p/678393\">购买详情链接</a><br><img src=\"http://ym.zdmimg.com/201506/04/5570365e37c167660.jpg_e600.jpg\" alt=\"\"></p>\n",
       "<p><br><img src=\"http://ym.zdmimg.com/201506/04/5570377b068954513.jpg_e600.jpg\" alt=\"\"></p>\n",
       "<p>苏宁跟价：SHARP 夏普 KC-W380S-W  空气净化器*2台　2799元，华北华南2999，首发于什么值得买。</p>                    <p>本文来自<a href=\"http://www.smzdm.com/p/678393\">什么值得买网站（www.smzdm.com）</a>。</p></td></tr><tr><td>促销活动：1号店 sebamed 施巴 洗护用品专场　满199减100</td><td><p>1号店目前开启了一个sebamed施巴洗护用品的满减活动，力度为满199减100活动，本身不少产品比京东定价要便宜一点，满减后近期好价。</p>\n",
       "<p>例如施巴5.5洁肤皂100g，各地区售价均为45.8元，可购买多件，<strong>买两块</strong>，凑单<strong>两块</strong>白色57.6元的施巴洁面皂100g，满减后总价106.8元。</p>\n",
       "<p>还有这款施巴粉刺护理啫喱10ML，各地售价120元，需要的值友也可凑单满减至60元出头的价格。需要注意的是这次促销活动<strong>各地区参加活动的商品数量，以及某些活动商品的价格有些不同</strong>，值友们可以根据自己需要凑单购买。之前京东不少商品部分地区已经无货了，没买到的家长的可以考虑。 </p>\n",
       "<p><a href=\"http://www.smzdm.com/p/678379\">购买详情链接</a><br><img src=\"http://d8.yihaodianimg.com/N03/M00/2D/29/CgQCtFE4Qs-AHVodAAE6ghQqBjg06601_360x360.jpg\" height=\"110\" width=\"110\"><span>施巴5.5洁肤皂 100g</span><span>各地区售价均为45.8元，可购买多件，买两块凑单两块白色57.6元的施巴洁面皂100g，满减后总价106.8元。</span><span>45.8元1号店</span>\n",
       "</p><p> </p>\n",
       "<p><img src=\"http://d8.yihaodianimg.com/N02/M0B/7F/17/CgQCsFPglTiABkQOAAIhiKHf4vk43601_360x360.jpg\"><span>Sebamed 施巴 粉刺护理啫喱 10ML 德国进口</span><span>各地售价120元，需要的值友也可凑单满减至80元出头的价格。</span><span>120元1号店</span>\n",
       "</p><p> </p>\n",
       "<p><br></p>\n",
       "<p>促销活动：1号店 sebamed 施巴 洗护用品专场　满199减100，首发于什么值得买。</p>                    <p>本文来自<a href=\"http://www.smzdm.com/p/678379\">什么值得买网站（www.smzdm.com）</a>。</p></td></tr><tr><td>LOCK&LOCK 乐扣乐扣 LLG445S911 格拉斯耐热玻璃保鲜盒4件套*2+凑单品　100.2元包邮（200.2-100，还可用券）</td><td><p>乐扣乐扣格拉斯耐热玻璃保鲜盒4件套LLG445S911，盒身为硼硅酸盐耐热玻璃材质，加热冷冻无压力，易清洗，耐腐蚀，微波炉烤箱均可使用。PP聚丙烯材质盒盖，耐高温、无毒害，环保健康。盒盖处添加硅胶圈，可防止泄露，增强密封性。耐热耐冷性强，可以在微波炉/烤箱中使用。此款套装包含1个380mL、2个630mL、1个1L的保鲜盒。</p>\n",
       "<p>京东目前售价99元，还可参加满200-100活动，下单2套，凑单牙签，满减后实付100.2元包邮，各渠道低价，还可用全品类优惠券，有需要的朋友可以考虑。</p>\n",
       "<p><br><a href=\"http://www.smzdm.com/p/678377\">购买详情链接</a><br><img src=\"http://ym.zdmimg.com/201506/04/55701420ac11d.jpg_e600.jpg\" alt=\"\"></p>\n",
       "<p><br><img src=\"http://ym.zdmimg.com/201506/04/55701a5145219307.jpg_e600.jpg\" alt=\"\"></p>\n",
       "<p>LOCK&amp;LOCK 乐扣乐扣 LLG445S911 格拉斯耐热玻璃保鲜盒4件套*2+凑单品　100.2元包邮（200.2-100，还可用券），首发于什么值得买。</p>                    <p>本文来自<a href=\"http://www.smzdm.com/p/678377\">什么值得买网站（www.smzdm.com）</a>。</p></td></tr><tr><td>RIWA 雷瓦 专业三合一电动理发器套装 RE-550A　59元包邮</td><td><p>值友“fangzhi”之前的推荐理由：“RIWA雷瓦是国内知名的小家电品牌，这款型号RE-550A的电动理发器套装，采用可拆卸402精钢可水洗机头，进口ABS树脂机身，一机多用，可完成理发，剃须，修鼻等任何毛发部位的修剪，采用7800转高速优质电机，附件包括底座和限位梳等。</p>\n",
       "<p>国美在线59元，全网最低价，再次来到了之前优惠频道推荐的最低价格，同款1号店、易迅网99元，有需求的网友可以入手。<a href=\"http://www.smzdm.com/p/678381\">购买详情链接</a><br><img src=\"http://ym.zdmimg.com/201506/04/55701a80e4b97.jpg_e600.jpg\" alt=\"\"></p>\n",
       "<p>RIWA 雷瓦 专业三合一电动理发器套装 RE-550A　59元包邮，首发于什么值得买。</p>                    <p>本文来自<a href=\"http://www.smzdm.com/p/678381\">什么值得买网站（www.smzdm.com）</a>。</p></td></tr></table>"
      ]
     },
     "output_type": "execute_result",
     "metadata": {}
    }
   ],
   "source": [
    "import random\n",
    "table = ListTable()\n",
    "table.append([\"title\", \"content\"])\n",
    "for i in Entry.objects.all():\n",
    "    table.append([i.title, i.content])\n",
    "table"
   ]
  },
  {
   "cell_type": "code",
   "execution_count": 22,
   "metadata": {},
   "outputs": [
    {
     "name": "stdout",
     "output_type": "stream",
     "text": [
      "Enter password: ········\n",
      "Verify password: ········\n"
     ]
    },
    {
     "data": {
      "text/plain": [
       "'sha1:96b6954d678f:630c0a102b0b7e498dfed0b972f1b5ec19719c02'"
      ]
     },
     "execution_count": 22,
     "output_type": "execute_result",
     "metadata": {}
    }
   ],
   "source": [
    "from IPython.lib import passwd\n",
    "passwd()"
   ]
  },
  {
   "cell_type": "code",
   "execution_count": null,
   "metadata": {},
   "outputs": [],
   "source": [
    ""
   ]
  }
 ],
 "metadata": {
  "kernelspec": {
   "display_name": "Django Shell-Plus",
   "language": "python",
   "name": "django_extensions"
  },
  "language_info": {
   "codemirror_mode": {
    "name": "ipython",
    "version": 2.0
   },
   "file_extension": ".py",
   "mimetype": "text/x-python",
   "name": "python",
   "nbconvert_exporter": "python",
   "pygments_lexer": "ipython2",
   "version": "2.7.9"
  }
 },
 "nbformat": 4,
 "nbformat_minor": 0
}